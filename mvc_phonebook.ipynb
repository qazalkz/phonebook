{
  "nbformat": 4,
  "nbformat_minor": 0,
  "metadata": {
    "colab": {
      "name": "mvc phonebook.ipynb",
      "provenance": [],
      "authorship_tag": "ABX9TyMkkxE+VrJo8AO9hAnPDQJo",
      "include_colab_link": true
    },
    "kernelspec": {
      "name": "python3",
      "display_name": "Python 3"
    },
    "language_info": {
      "name": "python"
    }
  },
  "cells": [
    {
      "cell_type": "markdown",
      "metadata": {
        "id": "view-in-github",
        "colab_type": "text"
      },
      "source": [
        "<a href=\"https://colab.research.google.com/github/qazalkz/phonebook/blob/main/mvc_phonebook.ipynb\" target=\"_parent\"><img src=\"https://colab.research.google.com/assets/colab-badge.svg\" alt=\"Open In Colab\"/></a>"
      ]
    },
    {
      "cell_type": "code",
      "metadata": {
        "id": "jY2EKmL9zABt"
      },
      "source": [
        "import re\n",
        "\n",
        "class Contacts:\n",
        "  def __init__(self,name,number,email):\n",
        "    self.name = name\n",
        "    self.number = number\n",
        "    self.email = email\n",
        "\n",
        "  def check_name(self):\n",
        "    self.valid_name = r'^[a-zA-z]+\\s?[a-zA-z]+$'\n",
        "      if (re.fullmatch(self.vaild_name, self.name)):\n",
        "        return True\n",
        "      except TypeError:        \n",
        "        print('name type is not correct')\n",
        "\n",
        "\n",
        "  def check_nummber(self): \n",
        "    if self.number.isnumeric():\n",
        "        return True \n",
        "    except ValueError:\n",
        "      print('number must be an integrt')\n",
        "\n",
        "\n",
        "  def check_email(self):\n",
        "    self.vaild_type = r'^[A-Za-z0-9._]+@[A-Za-z0-9.-]+\\.[A-Z|a-z]{2,}$'\n",
        "    if (re.fullmatch(self.vaild_type, self.email)):\n",
        "      return True\n",
        "    except TypeError:\n",
        "      print('email is not valid')   \n",
        "\n",
        "\n",
        "  def __str__(self):\n",
        "    return '{} number is {} and email is {}'.format(self.name, self.number, self.email)  \n",
        "\n",
        "\n"
      ],
      "execution_count": null,
      "outputs": []
    },
    {
      "cell_type": "code",
      "metadata": {
        "id": "4xCe3gJ9yddI"
      },
      "source": [
        "# sqlite Decorator\n",
        "\n",
        "import sqlite3\n",
        "\n",
        "def decorator(path):\n",
        "  def decorat(func):\n",
        "    def wrapper(*args, **kwargs):\n",
        "      try:\n",
        "        connect = sqlite3.connect(path)    \n",
        "        cursor = connect.cursor()      \n",
        "        result =func(cursor,*args, **kwargs)\n",
        "        connect.commit()\n",
        "      finally:\n",
        "        connect.close()\n",
        "      return result  \n",
        "    return wrapper\n",
        "  return decorat  \n"
      ],
      "execution_count": null,
      "outputs": []
    },
    {
      "cell_type": "code",
      "metadata": {
        "id": "Z5j1jAz0yQEt"
      },
      "source": [
        "path = '/content/phonebook.db'\n",
        "\n",
        "@decorator(path)\n",
        "def create_table(cursor):\n",
        "  return cursor.execute(\"\"\"CREATE TABLE IF NOT EXISTS contacts_list (id INTEGER PRIMARY KEY AUTOINCREMENT,\\\n",
        "   name TEXT VARCHAR(40),number TEXT, email TEXT)\"\"\")\n",
        "  \n",
        "\n",
        "create_table()"
      ],
      "execution_count": null,
      "outputs": []
    },
    {
      "cell_type": "code",
      "metadata": {
        "id": "gZkMl8lwLtat",
        "colab": {
          "base_uri": "https://localhost:8080/"
        },
        "outputId": "75e2e935-c914-44bb-b398-71d4d33a395b"
      },
      "source": [
        "\n",
        "@decorator(path)\n",
        "def insert(cursor,name, number, email): \n",
        "  return cursor.execute(\"\"\"INSERT INTO contacts_list VALUES ( :id, :name, :number, :email)\\\n",
        "  \"\"\",{ 'id': None, \"name\":name, \"number\":number, \"email\":email})\n",
        "\n",
        "#print(insert('ghhh','233322','g@l.m'))\n",
        "\n",
        "@decorator(path)\n",
        "def get_all(cursor):\n",
        "  cursor.execute(\"\"\"SELECT * FROM contacts_list  \"\"\")\n",
        "  row = cursor.fetchall()\n",
        "  return row\n",
        "\n",
        "#get_all()\n",
        "\n",
        "@decorator(path)\n",
        "def delete(cursor, id): \n",
        "  return cursor.execute(\"\"\"DELETE  FROM contacts_list WHERE id = :id \\\n",
        "                        \"\"\",{'id': id})\n",
        "# print(get_all())\n",
        "# delete(1)\n",
        "# print(get_all())\n",
        "\n",
        "@decorator(path)\n",
        "def search_name(cursor,name=\"\" ):  \n",
        "  cursor.execute(\"\"\"SELECT * FROM contacts_list WHERE   name = :name \"\"\",{'name':name})\n",
        "  return cursor.fetchall()\n",
        "  \n",
        "\n",
        "@decorator(path)\n",
        "def search_number(cursor,phoneNumber=\"\" ):  \n",
        "  cursor.execute(\"\"\"SELECT * FROM contacts_list WHERE   number = :number \"\"\",\\\n",
        "                 {'number':phoneNumber})\n",
        "  return cursor.fetchall()\n",
        "\n",
        "\n",
        "@decorator(path)\n",
        "def search_email(cursor,email=\"\"):  \n",
        "  cursor.execute(\"\"\"SELECT * FROM contacts_list WHERE   email = :email \"\"\",\\\n",
        "                 {'email':email})\n",
        "  return cursor.fetchall()\n",
        "\n",
        "\n",
        "@decorator(path)\n",
        "def update(cursor, searchId, name, phoneNumber, email):\n",
        "    cursor.execute(\"\"\"UPDATE contacts_list SET name = :name, number = :number, email= :email WHERE   id = :id \"\"\",\\\n",
        "                 {'id': searchId,'name': name, 'number': phoneNumber, 'email': email})\n",
        "\n",
        "\n",
        "print(get_all())\n",
        "#update(2 , 'javad', '0911','j@t.com')"
      ],
      "execution_count": null,
      "outputs": [
        {
          "output_type": "stream",
          "text": [
            "[(2, 'javad', '0911', 'j@t.com'), (3, 'ghhh', '233322', 'g@l.m')]\n"
          ],
          "name": "stdout"
        }
      ]
    }
  ]
}